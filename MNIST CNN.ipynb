{
  "nbformat": 4,
  "nbformat_minor": 0,
  "metadata": {
    "colab": {
      "name": "CNN.ipynb",
      "private_outputs": true,
      "provenance": [],
      "collapsed_sections": [],
      "mount_file_id": "190V_nSwkcJmyjL54Ke7BE8YC19k_lpAm",
      "authorship_tag": "ABX9TyM5481Ka5qRw34oEtGSJ4v6",
      "include_colab_link": true
    },
    "kernelspec": {
      "name": "python3",
      "display_name": "Python 3"
    }
  },
  "cells": [
    {
      "cell_type": "markdown",
      "metadata": {
        "id": "view-in-github",
        "colab_type": "text"
      },
      "source": [
        "<a href=\"https://colab.research.google.com/github/rzbsys/CNN_MODEL/blob/main/MNIST%20CNN.ipynb\" target=\"_parent\"><img src=\"https://colab.research.google.com/assets/colab-badge.svg\" alt=\"Open In Colab\"/></a>"
      ]
    },
    {
      "cell_type": "markdown",
      "metadata": {
        "id": "jfWNabJGhNdt"
      },
      "source": [
        "# CNN 구현\n",
        "합성곱 인공 신경망"
      ]
    },
    {
      "cell_type": "code",
      "metadata": {
        "id": "beZSabAKx0vk"
      },
      "source": [
        "(learna, learnb), (testa, testb) = datasets.mnist.load_data()\n",
        "print(learnb)\n",
        "learna = learna.reshape((60000, 28, 28, 1))\n",
        "testa = testa.reshape((10000, 28, 28, 1))\n",
        "testa, learna = testa / 255.0, learna / 255.0"
      ],
      "execution_count": null,
      "outputs": []
    },
    {
      "cell_type": "code",
      "metadata": {
        "id": "AEsuhtDKKyyH"
      },
      "source": [
        "# 시작\n",
        "import datetime\n",
        "import tensorflow as tf\n",
        "from tensorflow.keras import datasets, layers, models\n",
        "import matplotlib.pyplot as plt\n",
        "import numpy as np\n",
        " \n",
        "ACTIVATION_FUNCTION = 'relu'\n",
        " \n",
        " \n",
        "# 테스트 케이스 불러오기\n",
        "(learna, learnb), (testa, testb) = datasets.mnist.load_data()\n",
        "learna = learna.reshape((60000, 28, 28, 1))\n",
        "testa = testa.reshape((10000, 28, 28, 1))\n",
        "testa, learna = testa / 255.0, learna / 255.0\n",
        " \n",
        "# 모델\n",
        "md = models.Sequential()\n",
        "md.add(layers.Conv2D(32, (3, 3), activation=ACTIVATION_FUNCTION, input_shape=(28, 28, 1), padding='same'))\n",
        "md.add(layers.MaxPool2D(2, 2)) #첫번째 값 : 풀링할 크기(SIZE) 두번째 값 : STRIDE의 크기  \n",
        "md.add(layers.Conv2D(64, (3, 3), activation=ACTIVATION_FUNCTION, padding='same')) # 슬라이딩 윈도우 방식 | 첫번째 : 필터의 개수 두번째 커널 크기, 세번째 : 활성화 함수\n",
        "md.add(layers.MaxPool2D(2, 2))\n",
        "md.add(layers.Conv2D(64, (3, 3), activation=ACTIVATION_FUNCTION, padding='same'))\n",
        "md.add(layers.Flatten())\n",
        "md.add(layers.Dense(64, activation=ACTIVATION_FUNCTION))\n",
        "md.add(layers.Dense(10, activation='softmax'))\n",
        " \n",
        "# 학습\n",
        "md.compile(optimizer='adam', loss='sparse_categorical_crossentropy', metrics=['accuracy']) # 역전파 학습\n",
        "md.fit(learna, learnb, validation_data=(testa, testb), epochs=3, batch_size=100)\n",
        "md.save(\"CNN_LEANING.data\")\n",
        "md.summary()\n",
        "fail, suc = md.evaluate(testa, testb, verbose=2)\n",
        "print(suc)\n",
        " \n",
        "# 텐서보드 로딩     \n",
        "%load_ext tensorboard\n",
        "%tensorboard\n"
      ],
      "execution_count": null,
      "outputs": []
    },
    {
      "cell_type": "markdown",
      "metadata": {
        "id": "DJLjYwudFhya"
      },
      "source": [
        "# 사진 인식"
      ]
    },
    {
      "cell_type": "code",
      "metadata": {
        "id": "ohGXWmhF3RYC"
      },
      "source": [
        "import tensorflow as tf\n",
        "from keras.models import load_model\n",
        "import matplotlib.pyplot as plt\n",
        "from PIL import Image\n",
        "from tensorflow.keras import datasets, layers, models\n",
        "import cv2\n",
        "import numpy as np\n",
        "\n",
        "\n",
        "md = load_model(\"/content/drive/My Drive/logs/CNN_LEANING.data\")\n",
        "md.summary()\n",
        " \n",
        "img = cv2.imread(\"/content/drive/My Drive/TensorflowPlayGround/a.png\")\n",
        "img = cv2.resize(img, (28, 28))\n",
        "img = cv2.cvtColor(img, cv2.COLOR_BGR2GRAY)\n",
        "cv2.imwrite('/content/drive/My Drive/TensorflowPlayGround/a.png', img)\n",
        "\n",
        "\n",
        "\n",
        "test_num = plt.imread('/content/drive/My Drive/TensorflowPlayGround/a.png')\n",
        "plt.imshow(test_num, cmap='Greys', interpolation='nearest');\n",
        "test_num = test_num.reshape((1, 28, 28, 1))\n",
        "\n",
        "pre = md.predict(test_num)\n",
        "\n",
        "print(pre)\n",
        "print(np.sum(pre))\n",
        "print('입력한 숫자는 : ', np.argmax(pre))\n",
        "plt.show()\n",
        "\n",
        "te = [1, 2, 3, 4, 5 ,6, 7, 8, 9, 10]\n",
        "label = ['0', '1', '2', '3', '4', '5', '6', '7', '8', '9']\n",
        "plt.pie(pre, labels=label, shadow=True, startangle=90)\n",
        "plt.show()"
      ],
      "execution_count": null,
      "outputs": []
    },
    {
      "cell_type": "markdown",
      "metadata": {
        "id": "Nkw_euCFvKP1"
      },
      "source": [
        "## 활성화 함수"
      ]
    },
    {
      "cell_type": "code",
      "metadata": {
        "id": "TCRhTvzhteKz"
      },
      "source": [
        "import matplotlib.pyplot as plt\n",
        "import numpy as np\n",
        "\n",
        "# 시그모이드 함수\n",
        "def sigmoid(t):\n",
        "    return 1 / (1 + np.exp(-t))\n",
        "\n",
        "# 하이퍼볼릭 탄젠트 함수 \n",
        "def tanh(t):\n",
        "    return 2 / (1 + np.exp(-t * 2)) - 1\n",
        "\n",
        "#계단 함수\n",
        "def stair(t):\n",
        "  if t < 0:\n",
        "    return 0\n",
        "  else:\n",
        "    return 1\n",
        "\n",
        "# relu 함수\n",
        "def relu(t):\n",
        "    if t < 0:\n",
        "      return 0;\n",
        "    else:\n",
        "      return t;\n",
        "\n",
        "# Leaky relu 함수\n",
        "def leaky_relu(t):\n",
        "    if t < 0:\n",
        "      return 0.1 * t;\n",
        "    else:\n",
        "      return t;\n",
        "\n",
        "\n",
        "def ELU(t): # Exponential Linear Unit\n",
        "    if t >= 0:\n",
        "      return t;\n",
        "    else:\n",
        "      return 5 * (np.exp(t) - 1)\n",
        "\n",
        "\n",
        "x= range(-25, 25)\n",
        "y = [sigmoid(v) for v in x]\n",
        "plt.plot(x, y)"
      ],
      "execution_count": null,
      "outputs": []
    },
    {
      "cell_type": "code",
      "metadata": {
        "id": "hPQDHyMj5k4D"
      },
      "source": [
        "import numpy as np\n",
        "\n",
        "# Softmax 함수\n",
        "\n",
        "def softmax(x):\n",
        "    e_x = np.exp(x - np.max(x))\n",
        "    return e_x / e_x.sum()\n",
        "\n",
        "\n",
        "\n",
        "x = np.array([1.0 ,1.0, 2.0])\n",
        "y = softmax(x)\n",
        "\n",
        "print(sum(y))\n",
        "print(y)"
      ],
      "execution_count": null,
      "outputs": []
    }
  ]
}