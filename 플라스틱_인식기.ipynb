{
  "nbformat": 4,
  "nbformat_minor": 0,
  "metadata": {
    "colab": {
      "name": "플라스틱 인식기",
      "provenance": [],
      "collapsed_sections": [],
      "authorship_tag": "ABX9TyO7+K3aSWeuhKKV1XxkVcIN",
      "include_colab_link": true
    },
    "kernelspec": {
      "name": "python3",
      "display_name": "Python 3"
    },
    "language_info": {
      "name": "python"
    },
    "accelerator": "GPU"
  },
  "cells": [
    {
      "cell_type": "markdown",
      "metadata": {
        "id": "view-in-github",
        "colab_type": "text"
      },
      "source": [
        "<a href=\"https://colab.research.google.com/github/rzbsys/CNN_MODEL/blob/main/%ED%94%8C%EB%9D%BC%EC%8A%A4%ED%8B%B1_%EC%9D%B8%EC%8B%9D%EA%B8%B0.ipynb\" target=\"_parent\"><img src=\"https://colab.research.google.com/assets/colab-badge.svg\" alt=\"Open In Colab\"/></a>"
      ]
    },
    {
      "cell_type": "markdown",
      "metadata": {
        "id": "_RfqyK0dBrAy"
      },
      "source": [
        "#**Keras로 플라스틱이 재활용 가능한지 인식 가능한 모델 생성하기**"
      ]
    },
    {
      "cell_type": "markdown",
      "metadata": {
        "id": "6ToeOYwhXi17"
      },
      "source": [
        "20529 전민국\n",
        "\n",
        "CTRL+ENTER = 선택한 셀의 코드 실행"
      ]
    },
    {
      "cell_type": "markdown",
      "metadata": {
        "id": "G7UwsE12U3JU"
      },
      "source": [
        "##**0. GPU 확인**\n"
      ]
    },
    {
      "cell_type": "markdown",
      "metadata": {
        "id": "V6dm4AjRVzyn"
      },
      "source": [
        "GPU가 연결되어있는지 확인하는 코드\n",
        "\n",
        "P100 = 더 좋은거 | \n",
        "tesla T4 = 좋은거 | \n",
        "tesla k80 = 덜 좋은거 \n",
        "\n",
        "보통 최대 W수가 높으면 좋고, 좋은거 걸릴때 까지 런타임 초기화를 진행하는 것을 추천함"
      ]
    },
    {
      "cell_type": "code",
      "metadata": {
        "id": "PPmQ7s_ukfnJ"
      },
      "source": [
        "!nvidia-smi"
      ],
      "execution_count": null,
      "outputs": []
    },
    {
      "cell_type": "markdown",
      "metadata": {
        "id": "7VOV9nKFVqnC"
      },
      "source": [
        "##**1. 필수 라이브러리 import**"
      ]
    },
    {
      "cell_type": "markdown",
      "metadata": {
        "id": "WsBCCaztV3Sk"
      },
      "source": [
        "필요한 라이브러리를 import 해준다\n",
        "\n",
        "*   Tensorflow\n",
        "*   Keras\n",
        "*   Glob\n",
        "*   Sckit-learn\n",
        "*   OpenCV\n",
        "*   Numpy\n",
        "*   Matplot\n"
      ]
    },
    {
      "cell_type": "code",
      "metadata": {
        "id": "Brw5mY-bBYnq"
      },
      "source": [
        "import tensorflow as tf\n",
        "from tensorflow import keras\n",
        "from google.colab import files\n",
        "from glob import glob\n",
        "import numpy as np\n",
        "import cv2\n",
        "import matplotlib.pyplot as plt"
      ],
      "execution_count": 2,
      "outputs": []
    },
    {
      "cell_type": "markdown",
      "metadata": {
        "id": "j65aVPa8VlGt"
      },
      "source": [
        "##**2. 데이터셋 다운로드**\n"
      ]
    },
    {
      "cell_type": "markdown",
      "metadata": {
        "id": "8AoEmPQgB2j4"
      },
      "source": [
        "우선, 필요한 모듈을 모두 import 해준후 Kaggle의 데이터셋을 다운로드 한다."
      ]
    },
    {
      "cell_type": "markdown",
      "metadata": {
        "id": "KoUk7_dUiskc"
      },
      "source": [
        "[Kaggle 원본 링크](https://www.kaggle.com/piaoya/plastic-recycling-codes)\n",
        "\n",
        "**Kaggle API Token json 다운로드 방법**\n",
        "\n",
        "1. [Kaggle](https://kaggle.com) 사이트에 접속하여 로그인\n",
        "2. 오른쪽 상단에 있는 프로필 사진 클릭\n",
        "3. Account 클릭\n",
        "4. API에 있는 Create New API Token 버튼 클릭\n"
      ]
    },
    {
      "cell_type": "code",
      "metadata": {
        "id": "hFt1915gDiBu"
      },
      "source": [
        "files.upload()\n",
        "!mkdir -p /root/.kaggle\n",
        "!mv kaggle.json /root/.kaggle\n",
        "!chmod 600 /root/.kaggle/kaggle.json\n",
        "!kaggle datasets download -d piaoya/plastic-recycling-codes\n",
        "!unzip plastic-recycling-codes.zip"
      ],
      "execution_count": null,
      "outputs": []
    },
    {
      "cell_type": "markdown",
      "metadata": {
        "id": "GxkGuwHMWUt9"
      },
      "source": [
        "##**3. 이미지 전처리**"
      ]
    },
    {
      "cell_type": "markdown",
      "metadata": {
        "id": "BDlgnba0mFdw"
      },
      "source": [
        "img = 이미지 저장\n",
        "\n",
        "label = 저장된 이미지 순서대로 이미지의 라벨 저장\n",
        "\n",
        "\n",
        "\n",
        "1.   cv2.imread로 불러오기\n",
        "2.   cv2.resize로 모델에 맞추어 크기 바꾸기\n",
        "3.   cv2.normalize로 이미지 정규화 진행\n",
        "4.   Numpy Array로 변환\n"
      ]
    },
    {
      "cell_type": "code",
      "metadata": {
        "id": "wKGF1TtxH_s9"
      },
      "source": [
        "from keras.preprocessing.image import load_img, img_to_array\n",
        "img = []\n",
        "label = []\n",
        "for i in glob('/content/seven_plastics/*/*.jpg'):\n",
        "  img += [cv2.normalize(cv2.resize(cv2.imread(i), (224, 224)), None, 0, 255, cv2.NORM_MINMAX)]\n",
        "  label += i.split('/')[-2][0]\n",
        "img = np.asarray(img, dtype=np.float32) / 255.0\n",
        "label = np.asarray(label, dtype=np.int32)\n",
        "\n",
        "print(img.shape, label.shape)\n",
        "plt.imshow(img[1])"
      ],
      "execution_count": null,
      "outputs": []
    },
    {
      "cell_type": "markdown",
      "metadata": {
        "id": "r5YCzkr1XDvF"
      },
      "source": [
        "##**4. 데이터셋 분리**"
      ]
    },
    {
      "cell_type": "markdown",
      "metadata": {
        "id": "WhVIbCtjXJKa"
      },
      "source": [
        "Sckit-learn의 train_test_split를 활용하여 데이터셋을 나눔.\n",
        "\n",
        "Test 데이터셋의 비율은 10%만을 사용"
      ]
    },
    {
      "cell_type": "code",
      "metadata": {
        "id": "OKcGzdAVVBx8"
      },
      "source": [
        "from sklearn.model_selection import train_test_split\n",
        "X_train, X_test, Y_train, Y_test = train_test_split(img, label, random_state=1500, test_size=0.1)\n",
        "print(len(X_train), len(Y_train), len(X_test), len(Y_test))\n",
        "print(type(X_train), type(Y_train))"
      ],
      "execution_count": null,
      "outputs": []
    },
    {
      "cell_type": "markdown",
      "metadata": {
        "id": "8VW0zYcGXUEd"
      },
      "source": [
        "Matplot Lib를 통해 분류된 데이터를 확인"
      ]
    },
    {
      "cell_type": "code",
      "metadata": {
        "id": "ujsaBgJ6qgf2"
      },
      "source": [
        "plt.figure(figsize=(10,10))\n",
        "for i in range(25):\n",
        "    plt.subplot(5,5,i+1)\n",
        "    plt.xticks([])\n",
        "    plt.yticks([])\n",
        "    plt.grid(False)\n",
        "    plt.imshow(X_train[i])\n",
        "    plt.xlabel(Y_train[i])\n",
        "plt.show()"
      ],
      "execution_count": null,
      "outputs": []
    },
    {
      "cell_type": "markdown",
      "metadata": {
        "id": "qgt4AG7ZXaCf"
      },
      "source": [
        "##**5. 모델 구성**"
      ]
    },
    {
      "cell_type": "markdown",
      "metadata": {
        "id": "Kt9jmSC4Z236"
      },
      "source": [
        "원하는 모델 하나를 골라 선택"
      ]
    },
    {
      "cell_type": "markdown",
      "metadata": {
        "id": "V58dzb8oXvKn"
      },
      "source": [
        "###ResNet50V2 모델"
      ]
    },
    {
      "cell_type": "code",
      "metadata": {
        "id": "2o3-2HAg8cBx"
      },
      "source": [
        "from tensorflow.keras.applications import ResNet50V2\n",
        "model = ResNet50V2(weights='imagenet')"
      ],
      "execution_count": 68,
      "outputs": []
    },
    {
      "cell_type": "markdown",
      "metadata": {
        "id": "ofbueFBDX1Eg"
      },
      "source": [
        "###VGG16 모델"
      ]
    },
    {
      "cell_type": "code",
      "metadata": {
        "id": "kE5Fe4TPX6Ie"
      },
      "source": [
        "from tensorflow.keras.applications import VGG16\n",
        "model = VGG16(weights='imagenet')"
      ],
      "execution_count": null,
      "outputs": []
    },
    {
      "cell_type": "markdown",
      "metadata": {
        "id": "fZTEZUThYGqC"
      },
      "source": [
        "###MobileNet 모델"
      ]
    },
    {
      "cell_type": "code",
      "metadata": {
        "id": "wzTSvxI4YKY4"
      },
      "source": [
        "from tensorflow.keras.applications import MobileNetV3Small\n",
        "model = MobileNetV3Small(weights='imagenet')"
      ],
      "execution_count": null,
      "outputs": []
    },
    {
      "cell_type": "markdown",
      "metadata": {
        "id": "1i4butcVYR9y"
      },
      "source": [
        "###Xception 모델"
      ]
    },
    {
      "cell_type": "code",
      "metadata": {
        "id": "FnmklP6HYWYg"
      },
      "source": [
        "from tensorflow.keras.applications import Xception\n",
        "model = Xception(weights='imagenet')"
      ],
      "execution_count": 19,
      "outputs": []
    },
    {
      "cell_type": "markdown",
      "metadata": {
        "id": "G-phYlZEYanU"
      },
      "source": [
        "###Inception 모델"
      ]
    },
    {
      "cell_type": "code",
      "metadata": {
        "id": "Nj8x_T0iYhAW"
      },
      "source": [
        "from tensorflow.keras.applications import InceptionV3\n",
        "model = InceptionV3(weights='imagenet')"
      ],
      "execution_count": null,
      "outputs": []
    },
    {
      "cell_type": "markdown",
      "metadata": {
        "id": "mUsK9VQzYwmv"
      },
      "source": [
        "##**6. 모델 학습 진행**"
      ]
    },
    {
      "cell_type": "markdown",
      "metadata": {
        "id": "z0ZjeNLhZS4b"
      },
      "source": [
        "텐서보드 콜백 정의"
      ]
    },
    {
      "cell_type": "code",
      "metadata": {
        "id": "j2vYlgIXZB1_"
      },
      "source": [
        "#선택사항\n",
        "%load_ext tensorboard\n",
        "tensorboard_callback = keras.callbacks.TensorBoard(log_dir='./log', write_graph=True, histogram_freq=True)"
      ],
      "execution_count": null,
      "outputs": []
    },
    {
      "cell_type": "markdown",
      "metadata": {
        "id": "B0-RB7CzZgXk"
      },
      "source": [
        "모델 학습 진행\n",
        "\n",
        "\n",
        "*   Loss Function = sparse_categorical_crossentropy\n",
        "*   Optimizer = Adam\n",
        "\n"
      ]
    },
    {
      "cell_type": "code",
      "metadata": {
        "id": "VS8q59qpyJ31"
      },
      "source": [
        "model.compile(loss='sparse_categorical_crossentropy', optimizer='adam', metrics=['acc'])\n",
        "history = model.fit(X_train, Y_train, batch_size=30, epochs=100, validation_data=(X_test, Y_test)\n",
        "#,callbacks=tensorboard_callback #선택사항\n",
        ")"
      ],
      "execution_count": null,
      "outputs": []
    },
    {
      "cell_type": "markdown",
      "metadata": {
        "id": "No521uP1Zpf7"
      },
      "source": [
        "학습 진행 과정을 그래프로 표현"
      ]
    },
    {
      "cell_type": "code",
      "metadata": {
        "id": "j_xmYATEn3-s"
      },
      "source": [
        "acc = history.history['acc']\n",
        "val_acc = history.history['val_acc']\n",
        "loss = history.history['loss']\n",
        "val_loss = history.history['val_loss']\n",
        "epochs = range(1, len(acc) + 1)\n",
        "plt.plot(epochs, acc, 'bo', label='Training acc')\n",
        "plt.plot(epochs, val_acc, 'b', label='Validation acc')\n",
        "plt.title('Accuracy')\n",
        "plt.legend()\n",
        "plt.figure() \n",
        "plt.plot(epochs, loss, 'ro', label='Training loss')\n",
        "plt.plot(epochs, val_loss, 'r', label='Validation loss')\n",
        "plt.title('Loss')\n",
        "plt.legend()\n",
        "plt.show()"
      ],
      "execution_count": null,
      "outputs": []
    },
    {
      "cell_type": "markdown",
      "metadata": {
        "id": "Fywj9NiEZ96T"
      },
      "source": [
        "모델 저장하기"
      ]
    },
    {
      "cell_type": "code",
      "metadata": {
        "id": "o8fqcnjrZ8-7"
      },
      "source": [
        "model.save('End.h5')"
      ],
      "execution_count": null,
      "outputs": []
    },
    {
      "cell_type": "markdown",
      "metadata": {
        "id": "iP-7tmwPaHq0"
      },
      "source": [
        "##**7. 실제 이미지로 예측**"
      ]
    },
    {
      "cell_type": "markdown",
      "metadata": {
        "id": "d6dukzrmd11u"
      },
      "source": [
        "코드 실행 후 파일 업로드"
      ]
    },
    {
      "cell_type": "code",
      "metadata": {
        "id": "iWFFAjkLaSQn"
      },
      "source": [
        "file_name = files.upload()\n",
        "file_name = file_name.keys()\n",
        "file_name\n",
        "for i in file_name:\n",
        "  file_name += i\n",
        "\n",
        "Custom_Img = [cv2.normalize(cv2.resize(cv2.imread('./' + file_name), (224, 224)), None, 0, 255, cv2.NORM_MINMAX)]\n",
        "Custom_Img = np.asarray(img, dtype=np.float32) / 255.0\n",
        "Pre_data = model.predict(Custom_Img)\n",
        "print(Pre_data.argmax())"
      ],
      "execution_count": null,
      "outputs": []
    }
  ]
}