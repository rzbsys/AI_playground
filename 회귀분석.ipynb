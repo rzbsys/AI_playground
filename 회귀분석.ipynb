{
  "nbformat": 4,
  "nbformat_minor": 0,
  "metadata": {
    "colab": {
      "name": "회귀분석",
      "provenance": [],
      "collapsed_sections": [],
      "include_colab_link": true
    },
    "kernelspec": {
      "name": "python3",
      "display_name": "Python 3"
    },
    "language_info": {
      "name": "python"
    },
    "accelerator": "GPU"
  },
  "cells": [
    {
      "cell_type": "markdown",
      "metadata": {
        "id": "view-in-github",
        "colab_type": "text"
      },
      "source": [
        "<a href=\"https://colab.research.google.com/github/rzbsys/CNN_MODEL/blob/main/%ED%9A%8C%EA%B7%80%EB%B6%84%EC%84%9D.ipynb\" target=\"_parent\"><img src=\"https://colab.research.google.com/assets/colab-badge.svg\" alt=\"Open In Colab\"/></a>"
      ]
    },
    {
      "cell_type": "markdown",
      "metadata": {
        "id": "7tzBh36ba-sa"
      },
      "source": [
        "#**다항 회귀분석을 통한 미래 플라스틱 생산량 예측**\n",
        "####대전대신고등학교 20529 전민국\n",
        "####데이터 리터러시 수행평가"
      ]
    },
    {
      "cell_type": "markdown",
      "metadata": {
        "id": "koEDjMmB6iVR"
      },
      "source": [
        "증가하는 플라스틱 생산량을 2차 함수를 통해 예측한다."
      ]
    },
    {
      "cell_type": "markdown",
      "metadata": {
        "id": "oyw-iDU9bJS-"
      },
      "source": [
        "1.   Pandas 라이브러리를 통한 전처리\n",
        "2.   Sckit-Learn의 LinearRegression 모델 사용\n",
        "3.   학습데이터를 통한 학습 진행\n",
        "4.   Matplot의 pyplot을 통한 시각화 진행\n",
        "\n",
        "학습데이터는 **[[이곳]](https://www.statista.com/statistics/282732/global-production-of-plastics-since-1950/)**에서 다운받으실 수 있습니다.\n",
        "\n",
        "**CTRL + ENTER 선택한 셀에 있는 코드 실행**\n",
        "\n",
        "\n"
      ]
    },
    {
      "cell_type": "code",
      "metadata": {
        "id": "EoPil409W_j1"
      },
      "source": [
        "#기본 라이브러리 import\n",
        "import pandas as pd\n",
        "import numpy as np"
      ],
      "execution_count": null,
      "outputs": []
    },
    {
      "cell_type": "markdown",
      "metadata": {
        "id": "HkMd2kgwa5lM"
      },
      "source": [
        "Pandas 라이브러리를 활용한 학습 데이터 전처리 "
      ]
    },
    {
      "cell_type": "code",
      "metadata": {
        "id": "uiq4sMDyXXHt",
        "colab": {
          "base_uri": "https://localhost:8080/"
        },
        "outputId": "36c7fc81-5a44-40e1-c731-484dd84bda0a"
      },
      "source": [
        "Data = pd.read_excel('/content/statistic_id282732_global-plastic-production-1950-2019.xlsx', sheet_name=1)\n",
        "Data = Data.iloc[4:19, 1:3]\n",
        "Data.columns=['Year', 'Amount']\n",
        "\n",
        "Y = Data.Amount\n",
        "Y = np.asarray(Y, dtype=np.float32)\n",
        "X = Data.Year\n",
        "X = np.asarray(X, dtype=np.float32)\n",
        "\n",
        "X = X.reshape((15, 1))\n",
        "\n",
        "Y = Y.reshape((15, 1))\n",
        "print(type(X), type(Y))\n",
        "print(X.shape, Y.shape)"
      ],
      "execution_count": null,
      "outputs": [
        {
          "output_type": "stream",
          "text": [
            "<class 'numpy.ndarray'> <class 'numpy.ndarray'>\n",
            "(15, 1) (15, 1)\n"
          ],
          "name": "stdout"
        }
      ]
    },
    {
      "cell_type": "markdown",
      "metadata": {
        "id": "fg_NmNPpcDUL"
      },
      "source": [
        "Sckit-Learn의 LinearRegression 모델 사용"
      ]
    },
    {
      "cell_type": "code",
      "metadata": {
        "id": "Wzdg_JECZ_Sy",
        "colab": {
          "base_uri": "https://localhost:8080/"
        },
        "outputId": "36104485-4fd9-4a70-f7d7-f632ca26a5f6"
      },
      "source": [
        "#Sckit-Learne 라이브러리의 LinearRegression 모델 사용\n",
        "from sklearn.preprocessing import PolynomialFeatures\n",
        "from sklearn.linear_model import LinearRegression\n",
        "\n",
        "#X를 2차식으로 변환\n",
        "X_poly = PolynomialFeatures(degree=2).fit_transform(X)\n",
        "\n",
        "md = LinearRegression()\n",
        "md.fit(X_poly, Y)\n",
        "md.intercept_, md.coef_"
      ],
      "execution_count": null,
      "outputs": [
        {
          "output_type": "execute_result",
          "data": {
            "text/plain": [
              "(array([357735.03], dtype=float32),\n",
              " array([[ 0.0000000e+00, -3.6560638e+02,  9.3414307e-02]], dtype=float32))"
            ]
          },
          "metadata": {
            "tags": []
          },
          "execution_count": 240
        }
      ]
    },
    {
      "cell_type": "markdown",
      "metadata": {
        "id": "e8oHR1zg6WVe"
      },
      "source": [
        "Matplot 라이브러리를 활용하여 그래프 생성"
      ]
    },
    {
      "cell_type": "code",
      "metadata": {
        "colab": {
          "base_uri": "https://localhost:8080/",
          "height": 495
        },
        "id": "qn89NqQZnXXg",
        "outputId": "731c3557-7756-480c-d47f-f2f023131a74"
      },
      "source": [
        "#2040년까지의 예측 데이터 생성\n",
        "X_pre = range(1950, 2060)\n",
        "X_pre = np.asarray(X_pre)\n",
        "Y_pre = X_pre.reshape((len(X_pre), 1))\n",
        "Y_pre = PolynomialFeatures(degree=2).fit_transform(Y_pre)\n",
        "Y_pre = lin_reg.predict(Y_pre)\n",
        "\n",
        "#그래프 생성\n",
        "import matplotlib.pyplot as plt\n",
        "plt.figure(figsize=(10, 7))\n",
        "plt.plot(X, Y, 'or-', label='Produce')\n",
        "plt.xlim([1950, 2060])\n",
        "plt.ylim([0, 1000])\n",
        "plt.xlabel('Year')\n",
        "plt.ylabel('Amount')\n",
        "plt.title(\"Production of plastics\\nworldwide from 1950 to 2060\")\n",
        "plt.plot(X_pre, Y_pre, label='Regression', linewidth=1, linestyle='--')\n",
        "plt.legend()\n",
        "plt.rc('axes', titlesize=25)\n",
        "plt.show()"
      ],
      "execution_count": null,
      "outputs": [
        {
          "output_type": "display_data",
          "data": {
            "image/png": "[encoded data removed]",
            "text/plain": [
              "<Figure size 720x504 with 1 Axes>"
            ]
          },
          "metadata": {
            "tags": [],
            "needs_background": "light"
          }
        }
      ]
    },
    {
      "cell_type": "markdown",
      "metadata": {
        "id": "fi7FXDRl6QEC"
      },
      "source": [
        "분석 결과를 바탕으로 2040년과 2060년의 쓰레기 발생량을 예측"
      ]
    },
    {
      "cell_type": "code",
      "metadata": {
        "colab": {
          "base_uri": "https://localhost:8080/"
        },
        "id": "sU_2x8-H5PTN",
        "outputId": "d93fba2a-d34b-472c-cec6-7048a94fdb76"
      },
      "source": [
        "Pre = np.asarray([2040]).reshape(1, 1)\n",
        "Pre = PolynomialFeatures(degree=2).fit_transform(Pre)\n",
        "print(\"2040년 : {}\".format(md.predict(Pre)[0][0]))\n",
        "\n",
        "Pre = np.asarray([2060]).reshape(1, 1)\n",
        "Pre = PolynomialFeatures(degree=2).fit_transform(Pre)\n",
        "print(\"2060년 : {}\".format(md.predict(Pre)[0][0]))"
      ],
      "execution_count": null,
      "outputs": [
        {
          "output_type": "stream",
          "text": [
            "2040년 : 650.98583984375\n",
            "2060년 : 998.831298828125\n"
          ],
          "name": "stdout"
        }
      ]
    }
  ]
}